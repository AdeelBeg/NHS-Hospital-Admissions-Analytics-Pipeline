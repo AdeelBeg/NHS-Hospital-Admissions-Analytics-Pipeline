{
 "cells": [
  {
   "cell_type": "code",
   "execution_count": null,
   "id": "a5dbf4ca",
   "metadata": {},
   "outputs": [],
   "source": [
    "import pandas as pd\n",
    "import matplotlib.pyplot as plt\n",
    "import seaborn as sns\n",
    "sns.set(style='whitegrid')"
   ]
  },
  {
   "cell_type": "code",
   "execution_count": null,
   "id": "5abc59c0",
   "metadata": {},
   "outputs": [],
   "source": [
    "df = pd.read_csv('/mnt/data/notebooks/admissions_trends_sample.csv')\n",
    "df['Admission_Date'] = pd.to_datetime(df['Admission_Date'])\n",
    "df.head()"
   ]
  },
  {
   "cell_type": "code",
   "execution_count": null,
   "id": "2318c213",
   "metadata": {},
   "outputs": [],
   "source": [
    "df['Month'] = df['Admission_Date'].dt.to_period('M')\n",
    "monthly_counts = df.groupby('Month').size()\n",
    "monthly_counts.plot(kind='bar', figsize=(10, 5), title='Monthly Admissions')\n",
    "plt.ylabel('Number of Admissions')\n",
    "plt.xticks(rotation=45)\n",
    "plt.tight_layout()\n",
    "plt.show()"
   ]
  },
  {
   "cell_type": "code",
   "execution_count": null,
   "id": "bcfd7162",
   "metadata": {},
   "outputs": [],
   "source": [
    "diagnosis_counts = df['Diagnosis'].value_counts()\n",
    "sns.barplot(x=diagnosis_counts.values, y=diagnosis_counts.index)\n",
    "plt.title('Top Diagnoses')\n",
    "plt.xlabel('Count')\n",
    "plt.ylabel('Diagnosis')\n",
    "plt.tight_layout()\n",
    "plt.show()"
   ]
  },
  {
   "cell_type": "code",
   "execution_count": null,
   "id": "449a59af",
   "metadata": {},
   "outputs": [],
   "source": [
    "sns.histplot(df['Age'], bins=10, kde=True)\n",
    "plt.title('Age Distribution of Patients')\n",
    "plt.xlabel('Age')\n",
    "plt.ylabel('Frequency')\n",
    "plt.tight_layout()\n",
    "plt.show()"
   ]
  },
  {
   "cell_type": "code",
   "execution_count": null,
   "id": "9bfd5078",
   "metadata": {},
   "outputs": [],
   "source": [
    "trust_counts = df['Trust'].value_counts()\n",
    "sns.barplot(y=trust_counts.index, x=trust_counts.values)\n",
    "plt.title('Admissions by NHS Trust')\n",
    "plt.xlabel('Admissions')\n",
    "plt.ylabel('Trust')\n",
    "plt.tight_layout()\n",
    "plt.show()"
   ]
  }
 ],
 "metadata": {},
 "nbformat": 4,
 "nbformat_minor": 5
}
